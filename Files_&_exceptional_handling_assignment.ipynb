{
  "nbformat": 4,
  "nbformat_minor": 0,
  "metadata": {
    "colab": {
      "provenance": []
    },
    "kernelspec": {
      "name": "python3",
      "display_name": "Python 3"
    },
    "language_info": {
      "name": "python"
    }
  },
  "cells": [
    {
      "cell_type": "code",
      "execution_count": null,
      "metadata": {
        "id": "ZZITbFeDpoVM"
      },
      "outputs": [],
      "source": [
        "1.  What is the difference between interpreted and compiled languages?\n",
        "Ans - * Compiled Languages:\n",
        "- A compiler translates the entire source code into machine code before execution.\n",
        "- The compiled program runs independently without requiring the original source code or a compiler.\n",
        "      *  Interpreted Languages:\n",
        "- An interpreter translates and executes code line by line at runtime.\n",
        "- The source code must be available and processed each time the program runs."
      ]
    },
    {
      "cell_type": "markdown",
      "source": [
        "2.  What is exception handling in Python?\n",
        "Ans - Exception handling in Python is a mechanism to handle runtime errors gracefully without crashing the program. It allows the program to catch errors, respond appropriately, and continue execution.\n"
      ],
      "metadata": {
        "id": "cR-oISJiqQhi"
      }
    },
    {
      "cell_type": "markdown",
      "source": [
        "3.  What is the purpose of the finally block in exception handling\n",
        "Ans - The finally block is always executed, whether an exception occurs or not. It is typically used for cleanup actions, such as:\n",
        " * Closing files\n",
        " * Releasing resources\n",
        " * Releasing memory or locks\n",
        "\n"
      ],
      "metadata": {
        "id": "HxQ_q_5Gqkeh"
      }
    },
    {
      "cell_type": "markdown",
      "source": [
        "4.  What is logging in Python\n",
        "Ans - Logging in Python is a way to track events that happen when your code runs. Instead of using print, logging helps\n",
        " *Record important information errors, warnings, status updates\n",
        " *Debug programs more efficiently\n",
        " *Save logs to files for later analysis"
      ],
      "metadata": {
        "id": "b0Rqor6_q_4b"
      }
    },
    {
      "cell_type": "markdown",
      "source": [
        "5. What is the significance of the __del__ method in Python\n",
        "Ans - The __del__ method is called a destructor in Python. It is automatically invoked when an object is deleted or goes out of scope to free up resources.\n",
        "\n"
      ],
      "metadata": {
        "id": "zixwZ_2ErWXy"
      }
    },
    {
      "cell_type": "markdown",
      "source": [
        "6.  What is the difference between import and from ... import in Python\n",
        "Ans - * import module_name Imports the Whole Module\n",
        "- This imports the entire module.\n",
        "- You must use the module name to access its functions or variables.\n",
        "      *from module_name import specific_function Imports Specific Items\n",
        "- This imports only a specific function or variable from a module.\n",
        "- No need to use the module name."
      ],
      "metadata": {
        "id": "RKvZSyCFre9j"
      }
    },
    {
      "cell_type": "markdown",
      "source": [
        "7.  How can you handle multiple exceptions in Python\n",
        "Ans - In Python, exceptions are errors that occur during program execution. To prevent crashes and handle errors gracefully, Python provides exception handling using try-except blocks.\n",
        "When multiple types of exceptions can occur, Python allows handling them in different ways."
      ],
      "metadata": {
        "id": "q319PL2RsJIJ"
      }
    },
    {
      "cell_type": "markdown",
      "source": [
        "8.  What is the purpose of the with statement when handling files in Python\n",
        "Ans - The with statement is used when working with files to ensure they are properly opened and closed. It simplifies file handling by automatically closing the file once operations are complete, even if an error occurs."
      ],
      "metadata": {
        "id": "iNYCU9Gosd87"
      }
    },
    {
      "cell_type": "markdown",
      "source": [
        "9.  What is the difference between multithreading and multiprocessing\n",
        "Ans -  Multithreading\n",
        "Definition: * Multithreading allows multiple threads to run within a single process.\n",
        "Memory: Threads share the same memory space.\n",
        "Execution: Works well for I/O-bound tasks\n",
        "Limitation: Affected by Python’s Global Interpreter Lock (GIL), which prevents true parallel execution of multiple threads.\n",
        "          \n",
        "            * Multiprocessing\n",
        "\n",
        "Definition: Multiprocessing allows multiple processes to run independently, each with its own memory space.\n",
        "Memory: Each process has its own memory, so they do not share data directly.\n",
        "Execution: Works well for CPU-bound tasks\n",
        "Advantage: Not affected by Python’s GIL, so it achieves true parallel execution."
      ],
      "metadata": {
        "id": "ELAKdwvAsqhG"
      }
    },
    {
      "cell_type": "markdown",
      "source": [
        "10.  What are the advantages of using logging in a program\n",
        "Ans -  The advantages of using logging in a program are\n",
        "* Helps in Debugging & Troubleshooting\n",
        "* Provides Different Levels of Information\n",
        "* Improves Program Maintainability\n",
        "* Avoids Cluttering Output"
      ],
      "metadata": {
        "id": "nEHmg1O-ti5o"
      }
    },
    {
      "cell_type": "markdown",
      "source": [
        "11.  What is memory management in Python\n",
        "Ans - Memory management in Python is the process of allocating, using, and freeing memory efficiently. Python handles memory automatically using a combination of techniques like garbage collection, reference counting, and memory pools."
      ],
      "metadata": {
        "id": "y6v0cbYbuSUC"
      }
    },
    {
      "cell_type": "markdown",
      "source": [
        "12.  What are the basic steps involved in exception handling in Python\n",
        "Ans - the basic steps involved in exception handling in Python are\n",
        "* try → Try running the code\n",
        "* except → Catch errors if they happen\n",
        "* else → Run something extra if no error happens\n",
        "* finally → Run cleanup tasks no matter what"
      ],
      "metadata": {
        "id": "J7fCfF_fuc2r"
      }
    },
    {
      "cell_type": "markdown",
      "source": [
        "13.  Why is memory management important in Python\n",
        "Ans - Memory management is crucial in Python because it ensures efficient use of system resources, prevents memory leaks, and keeps programs fast and stable.\n",
        "* Python automatically allocates and frees memory when needed.\n",
        "* Memory leaks happen when memory is allocated but never freed.\n",
        "* Python optimizes memory allocation using pools for small objects.\n",
        "* When working with big datasets, proper memory management is crucial.\n",
        "\n"
      ],
      "metadata": {
        "id": "rlHhU2N9u9ML"
      }
    },
    {
      "cell_type": "markdown",
      "source": [
        "14.  What is the role of try and except in exception handling\n",
        "Ans - In Python, exception handling prevents a program from crashing when an error occurs. The try and except blocks help handle errors gracefully.\n",
        "\n"
      ],
      "metadata": {
        "id": "Y_as1z5wvgAU"
      }
    },
    {
      "cell_type": "markdown",
      "source": [
        "15.  How does Python's garbage collection system work\n",
        "Ans - Python automatically manages memory using garbage collection (GC) to free up unused memory and prevent memory leaks. It primarily uses reference counting and cyclic garbage collection to remove unneeded objects."
      ],
      "metadata": {
        "id": "nHUxAiA1vpmE"
      }
    },
    {
      "cell_type": "markdown",
      "source": [
        "16.  What is the purpose of the else block in exception handling\n",
        "Ans - The else block in exception handling is executed only if no exceptions occur in the try block. It allows you to separate error-free code from error-handling code."
      ],
      "metadata": {
        "id": "tuxXRLDnv52P"
      }
    },
    {
      "cell_type": "markdown",
      "source": [
        "17.  What are the common logging levels in Python\n",
        "Ans - Logging helps track what’s happening in a program. Python has five logging levels, from least to most serious\n",
        "* DEBUG\tFor developers  shows detailed info about how the program is working.\n",
        "* INFO\tGeneral updates confirms things are running smoothly."
      ],
      "metadata": {
        "id": "kefY5YHcwJJE"
      }
    },
    {
      "cell_type": "markdown",
      "source": [
        " 18. What is the difference between os.fork() and multiprocessing in Python\n",
        "Ans - * os.fork()\n",
        "- os.fork() is a low-level system call that creates a new child process by duplicating the parent process.\n",
        "- The child process inherits the same memory, file descriptors, and execution state as the parent.\n",
        "- It is available only on Unix-based systems (Linux/macOS) and not supported on Windows.\n",
        "*  multiprocessing (Cross-Platform Process Management)\n",
        "\n",
        " - The multiprocessing module provides a high-level interface for process - -\n",
        " - creation and management.\n",
        " - Unlike os.fork(), it works on both Windows and Unix by spawning entirely new processes.\n",
        " - The new process does not share memory with the parent but communicates via inter-process communication (IPC) methods like queues and pipes."
      ],
      "metadata": {
        "id": "MuZepVGxw8bY"
      }
    },
    {
      "cell_type": "markdown",
      "source": [
        "19.  What is the importance of closing a file in Python\n",
        "Ans -  Importance of Closing a File in Python (Briefly)\n",
        " *  Releases System Resources → Prevents memory leaks.\n",
        "* Prevents Data Loss → Ensures all data is saved properly.\n",
        " * Allows Other Programs to Access the File → Avoids file locks.\n",
        "* Avoids Hitting File Limits → Too many open files can crash a program."
      ],
      "metadata": {
        "id": "c5bGKv4qx5wR"
      }
    },
    {
      "cell_type": "markdown",
      "source": [
        "20.  What is the difference between file.read() and file.readline() in Python\n",
        "Ans -*  file.read() – Reads the Whole File or a Specific Number of Characters\n",
        " Reads the entire file as a single string (or a specified number of characters).\n",
        " Useful for reading small files at once"
      ],
      "metadata": {
        "id": "zp3fGmANyWXh"
      }
    },
    {
      "cell_type": "markdown",
      "source": [
        "21.  What is the logging module in Python used for\n",
        "Ans  - 1️ Debugging  Helps track issues without stopping the program.\n",
        "2️ Error Tracking–Records errors for later analysis.\n",
        "3️ Monitoring  Logs important events\n",
        "4️ Control Over Logging Levels  Filters messages by importance\n",
        "5️ Saves Logs to a File  Keeps records for future reference.\n",
        "\n"
      ],
      "metadata": {
        "id": "Gqx2VWBcyrEv"
      }
    },
    {
      "cell_type": "markdown",
      "source": [
        "22.  What is the os module in Python used for in file handling\n",
        "Ans - os Module in Python – File Handling Uses\n",
        "The os module in Python provides functions to interact with the operating system, especially for file and directory management.\n"
      ],
      "metadata": {
        "id": "9tepxPxzzKii"
      }
    },
    {
      "cell_type": "markdown",
      "source": [
        "23.  What are the challenges associated with memory management in Python\n",
        "Ans -* Garbage Collection Overhead\n",
        "     * Memory Leaks\n",
        "     * Reference Cycles"
      ],
      "metadata": {
        "id": "6CAmAFTSzYOz"
      }
    },
    {
      "cell_type": "markdown",
      "source": [
        "24.  How do you raise an exception manually in Python\n",
        "Ans - You can manually raise an exception in Python using the raise keyword. This is useful when you want to enforce specific conditions or handle errors in a controlled way.\n",
        "*  Basic Syntax:\n",
        "* Raising Specific Exceptions\n",
        "* Raising Custom Exceptions"
      ],
      "metadata": {
        "id": "fksNR6Wo0ghD"
      }
    },
    {
      "cell_type": "markdown",
      "source": [
        "25.  Why is it important to use multithreading in certain applications?\n",
        "Ans - Multithreading allows a program to run multiple tasks at the same time within a single process. This improves efficiency and responsiveness, especially in applications that involve I/O operations or parallel tasks.\n"
      ],
      "metadata": {
        "id": "EP7wyzLI06yB"
      }
    },
    {
      "cell_type": "markdown",
      "source": [
        "**                          Practical  Questions**"
      ],
      "metadata": {
        "id": "GXj5Mom61OSt"
      }
    },
    {
      "cell_type": "markdown",
      "source": [
        "1.  How can you open a file for writing in Python and write a string to it\n"
      ],
      "metadata": {
        "id": "oVNV1S401dGF"
      }
    },
    {
      "cell_type": "code",
      "source": [
        "with open(\"example.txt\", \"w\") as file:\n",
        "    file.write(\"Hello, this is a test string!\")\n",
        "\n",
        "print(\"File written successfully.\")\n"
      ],
      "metadata": {
        "id": "sxHr6ckN56JN"
      },
      "execution_count": null,
      "outputs": []
    },
    {
      "cell_type": "markdown",
      "source": [
        "2.  Write a Python program to read the contents of a file and print each line\n"
      ],
      "metadata": {
        "id": "TnH0kGta6G2s"
      }
    },
    {
      "cell_type": "code",
      "source": [
        "with open(\"example.txt\", \"r\") as file:\n",
        "    for line in file:\n",
        "        print(line.strip())\n"
      ],
      "metadata": {
        "id": "6lT1kyjF6LIm"
      },
      "execution_count": null,
      "outputs": []
    },
    {
      "cell_type": "markdown",
      "source": [
        "3.  How would you handle a case where the file doesn't exist while trying to open it for reading\n"
      ],
      "metadata": {
        "id": "XKVhlyvu6VGW"
      }
    },
    {
      "cell_type": "code",
      "source": [
        "try:\n",
        "    with open(\"example.txt\", \"r\") as file:\n",
        "        for line in file:\n",
        "            print(line.strip())\n",
        "except FileNotFoundError:\n",
        "    print(\"Error: The file does not exist. Please check the filename and try again.\")\n"
      ],
      "metadata": {
        "id": "ZS2YBwB_6YRw"
      },
      "execution_count": null,
      "outputs": []
    },
    {
      "cell_type": "markdown",
      "source": [
        "4.  Write a Python script that reads from one file and writes its content to another file\n"
      ],
      "metadata": {
        "id": "Y_g973AO6epC"
      }
    },
    {
      "cell_type": "code",
      "source": [
        "input_file = \"source.txt\"\n",
        "output_file = \"destination.txt\"\n",
        "\n",
        "try:\n",
        "    with open(input_file, \"r\") as src, open(output_file, \"w\") as dest:\n",
        "        for line in src:\n",
        "            dest.write(line)\n",
        "    print(f\"Contents copied from '{input_file}' to '{output_file}' successfully.\")\n",
        "except FileNotFoundError:\n",
        "    print(f\"Error: '{input_file}' not found. Please check the file name and try again.\")\n"
      ],
      "metadata": {
        "id": "ObM_ZsII6hym"
      },
      "execution_count": null,
      "outputs": []
    },
    {
      "cell_type": "markdown",
      "source": [
        "5.  How would you catch and handle division by zero error in Python\n"
      ],
      "metadata": {
        "id": "ZNdK1QwT6rpE"
      }
    },
    {
      "cell_type": "code",
      "source": [
        "try:\n",
        "    numerator = int(input(\"Enter numerator: \"))\n",
        "    denominator = int(input(\"Enter denominator: \"))\n",
        "    result = numerator / denominator\n",
        "    print(f\"Result: {result}\")\n",
        "except ZeroDivisionError:\n",
        "    print(\"Error: Division by zero is not allowed.\")\n"
      ],
      "metadata": {
        "id": "jHa6QIre6ujl"
      },
      "execution_count": null,
      "outputs": []
    },
    {
      "cell_type": "markdown",
      "source": [
        "6.  Write a Python program that logs an error message to a log file when a division by zero exception occurs\n"
      ],
      "metadata": {
        "id": "9fmN2u8o6-QR"
      }
    },
    {
      "cell_type": "code",
      "source": [
        "import logging\n",
        "\n",
        "logging.basicConfig(filename=\"error.log\", level=logging.ERROR, format=\"%(asctime)s - %(levelname)s - %(message)s\")\n",
        "\n",
        "try:\n",
        "    numerator = int(input(\"Enter numerator: \"))\n",
        "    denominator = int(input(\"Enter denominator: \"))\n",
        "    result = numerator / denominator\n",
        "    print(f\"Result: {result}\")\n",
        "except ZeroDivisionError:\n",
        "    error_message = \"Error: Division by zero occurred.\"\n",
        "    print(error_message)\n",
        "    logging.error(error_message)\n"
      ],
      "metadata": {
        "id": "K5h2lM4a7Cfm"
      },
      "execution_count": null,
      "outputs": []
    },
    {
      "cell_type": "markdown",
      "source": [
        "7.  How do you log information at different levels (INFO, ERROR, WARNING) in Python using the logging module\n"
      ],
      "metadata": {
        "id": "316Xzj-57U-V"
      }
    },
    {
      "cell_type": "code",
      "source": [
        "import logging\n",
        "\n",
        "logging.basicConfig(\n",
        "    filename=\"app.log\",\n",
        "    level=logging.DEBUG,\n",
        "    format=\"%(asctime)s - %(levelname)s - %(message)s\",\n",
        "    filemode=\"w\"\n",
        ")\n",
        "\n",
        "logging.debug(\"This is a DEBUG message (for troubleshooting).\")\n",
        "logging.info(\"This is an INFO message (for general information).\")\n",
        "logging.warning(\"This is a WARNING message (for potential issues).\")\n",
        "logging.error(\"This is an ERROR message (for serious problems).\")\n",
        "logging.critical(\"This is a CRITICAL message (for severe issues).\")\n",
        "\n",
        "print(\"Logs have been recorded in 'app.log'.\")\n"
      ],
      "metadata": {
        "id": "gampCWH97Ybb"
      },
      "execution_count": null,
      "outputs": []
    },
    {
      "cell_type": "markdown",
      "source": [
        "8. Write a program to handle a file opening error using exception handling\n"
      ],
      "metadata": {
        "id": "o1gJRd-C7juR"
      }
    },
    {
      "cell_type": "code",
      "source": [
        "try:\n",
        "    file_name = \"non_existent_file.txt\"\n",
        "    with open(file_name, \"r\") as file:\n",
        "        content = file.read()\n",
        "        print(\"File contents:\\n\", content)\n",
        "except FileNotFoundError:\n",
        "    print(f\"Error: The file '{file_name}' was not found. Please check the filename and try again.\")\n",
        "except PermissionError:\n",
        "    print(f\"Error: Permission denied while trying to open '{file_name}'.\")\n",
        "except Exception as e:\n",
        "    print(f\"An unexpected error occurred: {e}\")\n"
      ],
      "metadata": {
        "id": "LxSs_wz97mjX"
      },
      "execution_count": null,
      "outputs": []
    },
    {
      "cell_type": "markdown",
      "source": [
        "9.  How can you read a file line by line and store its content in a list in Python\n"
      ],
      "metadata": {
        "id": "qNqFmQhJ7uDz"
      }
    },
    {
      "cell_type": "code",
      "source": [
        "with open(\"example.txt\", \"r\") as file:\n",
        "    lines = file.readlines()\n",
        "\n",
        "print(lines)\n"
      ],
      "metadata": {
        "id": "o_Lh9jB-7w8n"
      },
      "execution_count": null,
      "outputs": []
    },
    {
      "cell_type": "markdown",
      "source": [
        "10.  How can you append data to an existing file in Python\n"
      ],
      "metadata": {
        "id": "QRPYduzI747n"
      }
    },
    {
      "cell_type": "code",
      "source": [
        "with open(\"example.txt\", \"a\") as file:\n",
        "    file.write(\"\\nThis is an appended line.\")\n",
        "\n",
        "print(\"Data appended successfully!\")\n"
      ],
      "metadata": {
        "id": "CYhOvETQ77lY"
      },
      "execution_count": null,
      "outputs": []
    },
    {
      "cell_type": "markdown",
      "source": [
        "11.  Write a Python program that uses a try-except block to handle an error when attempting to access a dictionary key that doesn't exist"
      ],
      "metadata": {
        "id": "t6hre4we8CBp"
      }
    },
    {
      "cell_type": "code",
      "source": [
        "student_scores = {\"Alice\": 85, \"Bob\": 90, \"Charlie\": 78}\n",
        "\n",
        "try:\n",
        "    student_name = input(\"Enter student name: \")\n",
        "    score = student_scores[student_name]\n",
        "    print(f\"{student_name}'s score is: {score}\")\n",
        "except KeyError:\n",
        "    print(f\"Error: '{student_name}' not found in the dictionary.\")\n"
      ],
      "metadata": {
        "id": "OWqjGH-R8HF3"
      },
      "execution_count": null,
      "outputs": []
    },
    {
      "cell_type": "markdown",
      "source": [
        "12.  Write a program that demonstrates using multiple except blocks to handle different types of exceptions\n"
      ],
      "metadata": {
        "id": "hrOwkm138R60"
      }
    },
    {
      "cell_type": "code",
      "source": [
        "try:\n",
        "    numerator = int(input(\"Enter numerator: \"))\n",
        "    denominator = int(input(\"Enter denominator: \"))\n",
        "\n",
        "    result = numerator / denominator\n",
        "\n",
        "    student_scores = {\"Alice\": 85, \"Bob\": 90}\n",
        "    student_name = input(\"Enter student name: \")\n",
        "    score = student_scores[student_name]\n",
        "\n",
        "    print(f\"Result: {result}\")\n",
        "    print(f\"{student_name}'s score is: {score}\")\n",
        "\n",
        "except ValueError:\n",
        "    print(\"Error: Invalid input! Please enter numeric values.\")\n",
        "except ZeroDivisionError:\n",
        "    print(\"Error: Division by zero is not allowed.\")\n",
        "except KeyError:\n",
        "    print(\"Error: Student not found in the dictionary.\")\n",
        "except Exception as e:\n",
        "    print(f\"An unexpected error occurred: {e}\")\n"
      ],
      "metadata": {
        "id": "OamxP54v8Vrc"
      },
      "execution_count": null,
      "outputs": []
    },
    {
      "cell_type": "markdown",
      "source": [
        "13.  How would you check if a file exists before attempting to read it in Python\n"
      ],
      "metadata": {
        "id": "OH_wfzg48kzV"
      }
    },
    {
      "cell_type": "code",
      "source": [
        "Method 1: Using os.path.exists() python\n",
        "import os\n",
        "\n",
        "file_name = \"example.txt\"\n",
        "\n",
        "# Check if the file exists before opening\n",
        "if os.path.exists(file_name):\n",
        "    with open(file_name, \"r\") as file:\n",
        "        content = file.read()\n",
        "        print(\"File contents:\\n\", content)\n",
        "else:\n",
        "    print(f\"Error: The file '{file_name}' does not exist.\")\n",
        "\n",
        "Method 2: Using pathlib.Path.exists() (Recommended)\n",
        "\n",
        "from pathlib import Path\n",
        "\n",
        "file_path = Path(\"example.txt\")\n",
        "\n",
        "if file_path.exists():\n",
        "    with file_path.open(\"r\") as file:\n",
        "        content = file.read()\n",
        "        print(\"File contents:\\n\", content)\n",
        "else:\n",
        "    print(f\"Error: The file '{file_path}' does not exist.\")"
      ],
      "metadata": {
        "id": "UC6FlGmH8n8C"
      },
      "execution_count": null,
      "outputs": []
    },
    {
      "cell_type": "markdown",
      "source": [
        "14.  Write a program that uses the logging module to log both informational and error messages\n"
      ],
      "metadata": {
        "id": "aRT6iHJv9IXV"
      }
    },
    {
      "cell_type": "code",
      "source": [
        "import logging\n",
        "\n",
        "logging.basicConfig(\n",
        "    filename=\"app.log\",\n",
        "    level=logging.DEBUG,\n",
        "    format=\"%(asctime)s - %(levelname)s - %(message)s\",\n",
        "    filemode=\"w\"\n",
        ")\n",
        "\n",
        "def divide_numbers(a, b):\n",
        "    \"\"\"Function to perform division with error handling.\"\"\"\n",
        "    try:\n",
        "        logging.info(f\"Attempting to divide {a} by {b}\")\n",
        "        result = a / b\n",
        "        logging.info(f\"Division successful: {result}\")\n",
        "        return result\n",
        "    except ZeroDivisionError:\n",
        "        logging.error(\"Error: Division by zero occurred!\")\n",
        "    except Exception as e:\n",
        "        logging.error(f\"Unexpected error: {e}\")\n",
        "        return None\n",
        "\n",
        "\n"
      ],
      "metadata": {
        "id": "2gYhyXzg9Lq-"
      },
      "execution_count": null,
      "outputs": []
    },
    {
      "cell_type": "markdown",
      "source": [
        "15.  Write a Python program that prints the content of a file and handles the case when the file is empty\n"
      ],
      "metadata": {
        "id": "tUROn8sd9h3F"
      }
    },
    {
      "cell_type": "code",
      "source": [
        "import os\n",
        "\n",
        "def read_file(file_name):\n",
        "    \"\"\"Reads and prints the content of a file, handling empty files.\"\"\"\n",
        "    try:\n",
        "        if not os.path.exists(file_name):\n",
        "            print(f\"Error: The file '{file_name}' does not exist.\")\n",
        "            return\n",
        "\n",
        "        with open(file_name, \"r\") as file:\n",
        "            content = file.read()\n",
        "\n",
        "            if content.strip():\n",
        "                print(\"File Contents:\\n\", content)\n",
        "            else:\n",
        "                print(f\"Note: The file '{file_name}' is empty.\")\n",
        "\n",
        "    except Exception as e:\n",
        "        print(f\"An unexpected error occurred: {e}\")\n",
        "\n"
      ],
      "metadata": {
        "id": "2LGbz4x29kWR"
      },
      "execution_count": null,
      "outputs": []
    },
    {
      "cell_type": "markdown",
      "source": [
        "16.  Demonstrate how to use memory profiling to check the memory usage of a small program\n"
      ],
      "metadata": {
        "id": "ZKpU0zmL9yoY"
      }
    },
    {
      "cell_type": "code",
      "source": [
        "from memory_profiler import profile\n",
        "\n",
        "@profile\n",
        "def create_large_list():\n",
        "    numbers = [i for i in range(10**6)]\n",
        "    return numbers\n",
        "\n",
        "if __name__ == \"__main__\":\n",
        "    create_large_list()\n"
      ],
      "metadata": {
        "id": "Jl4mS7I492Eo"
      },
      "execution_count": null,
      "outputs": []
    },
    {
      "cell_type": "markdown",
      "source": [
        "17.  Write a Python program to create and write a list of numbers to a file, one number per line\n"
      ],
      "metadata": {
        "id": "oroF4CUb-AsR"
      }
    },
    {
      "cell_type": "code",
      "source": [
        "numbers = list(range(1, 21))\n",
        "\n",
        "file_name = \"numbers.txt\"\n",
        "\n",
        "try:\n",
        "    with open(file_name, \"w\") as file:\n",
        "        for num in numbers:\n",
        "            file.write(f\"{num}\\n\")\n",
        "\n",
        "    print(f\"Numbers written to '{file_name}' successfully!\")\n",
        "\n",
        "except Exception as e:\n",
        "    print(f\"An error occurred: {e}\")\n"
      ],
      "metadata": {
        "id": "BfFggH6G-EZB"
      },
      "execution_count": null,
      "outputs": []
    },
    {
      "cell_type": "markdown",
      "source": [
        "18.  How would you implement a basic logging setup that logs to a file with rotation after 1MB\n"
      ],
      "metadata": {
        "id": "HJrsAtWH-N8g"
      }
    },
    {
      "cell_type": "code",
      "source": [
        "import logging\n",
        "from logging.handlers import RotatingFileHandler\n",
        "\n",
        "log_file = \"app.log\"\n",
        "max_size = 1 * 1024 * 1024\n",
        "backup_count = 3\n",
        "\n",
        "logging.basicConfig(\n",
        "    level=logging.DEBUG,\n",
        "    format=\"%(asctime)s - %(levelname)s - %(message)s\",\n",
        "    handlers=[\n",
        "        RotatingFileHandler(log_file, maxBytes=max_size, backupCount=backup_count)\n",
        "    ]\n",
        ")\n",
        "\n",
        "for i in range(10000):\n",
        "    logging.info(f\"Log message {i}\")\n",
        "\n",
        "print(\"Logging complete! Check 'app.log' and rotated logs.\")\n"
      ],
      "metadata": {
        "id": "jhfrftYx-Qy5"
      },
      "execution_count": null,
      "outputs": []
    },
    {
      "cell_type": "markdown",
      "source": [
        "19.  Write a program that handles both IndexError and KeyError using a try-except block\n"
      ],
      "metadata": {
        "id": "Dae8VXMD-wMa"
      }
    },
    {
      "cell_type": "code",
      "source": [
        "def handle_exceptions():\n",
        "    my_list = [10, 20, 30]\n",
        "    my_dict = {\"Alice\": 85, \"Bob\": 90}\n",
        "\n",
        "    try:\n",
        "        index = int(input(\"Enter list index (0-2): \"))\n",
        "        print(f\"List value: {my_list[index]}\")\n",
        "\n",
        "        name = input(\"Enter student name: \")\n",
        "        print(f\"{name}'s score: {my_dict[name]}\")\n",
        "\n",
        "    except IndexError:\n",
        "        print(\"Error: Index out of range! Please enter a valid index (0-2).\")\n",
        "\n",
        "    except KeyError:\n",
        "        print(\"Error: Student name not found in the dictionary.\")\n",
        "\n",
        "handle_exceptions()\n"
      ],
      "metadata": {
        "id": "JzrRKguN-zVL"
      },
      "execution_count": null,
      "outputs": []
    },
    {
      "cell_type": "markdown",
      "source": [
        "20.  How would you open a file and read its contents using a context manager in Python\n"
      ],
      "metadata": {
        "id": "0meW20Ux-_G_"
      }
    },
    {
      "cell_type": "code",
      "source": [
        "file_name = \"example.txt\"\n",
        "\n",
        "try:\n",
        "    with open(file_name, \"r\") as file:\n",
        "        content = file.read()\n",
        "        print(\"File Contents:\\n\", content)\n",
        "except FileNotFoundError:\n",
        "    print(f\"Error: The file '{file_name}' does not exist.\")\n",
        "except Exception as e:\n",
        "    print(f\"An unexpected error occurred: {e}\")\n"
      ],
      "metadata": {
        "id": "Pp_tWSdD_C7E"
      },
      "execution_count": null,
      "outputs": []
    },
    {
      "cell_type": "markdown",
      "source": [
        "21.  Write a Python program that reads a file and prints the number of occurrences of a specific word\n"
      ],
      "metadata": {
        "id": "HRPQT9gA_Kpe"
      }
    },
    {
      "cell_type": "code",
      "source": [
        "def count_word_occurrences(file_name, word):\n",
        "    \"\"\"Reads a file and counts occurrences of a specific word (case-insensitive).\"\"\"\n",
        "    try:\n",
        "        with open(file_name, \"r\") as file:\n",
        "            content = file.read().lower()\n",
        "            word_count = content.split().count(word.lower())\n",
        "            print(f\"The word '{word}' appears {word_count} times in '{file_name}'.\")\n",
        "\n",
        "    except FileNotFoundError:\n",
        "        print(f\"Error: The file '{file_name}' does not exist.\")\n",
        "    except Exception as e:\n",
        "        print(f\"An unexpected error occurred: {e}\")\n",
        "\n",
        "\n"
      ],
      "metadata": {
        "id": "XLiFbIij_N2u"
      },
      "execution_count": null,
      "outputs": []
    },
    {
      "cell_type": "markdown",
      "source": [
        "22.  How can you check if a file is empty before attempting to read its contents\n"
      ],
      "metadata": {
        "id": "zuBeUexJ_Y0P"
      }
    },
    {
      "cell_type": "code",
      "source": [
        "1-  import os\n",
        "\n",
        "file_name = \"example.txt\"\n",
        "\n",
        "if os.path.exists(file_name) and os.path.getsize(file_name) == 0:\n",
        "    print(f\"The file '{file_name}' is empty.\")\n",
        "elif os.path.exists(file_name):\n",
        "    with open(file_name, \"r\") as file:\n",
        "        content = file.read()\n",
        "        print(\"File Contents:\\n\", content)\n",
        "else:\n",
        "    print(f\"Error: The file '{file_name}' does not exist.\")\n",
        "\n",
        "2- file_name = \"example.txt\"\n",
        "\n",
        "try:\n",
        "    with open(file_name, \"r\") as file:\n",
        "        content = file.read()\n",
        "        if not content:\n",
        "            print(f\"The file '{file_name}' is empty.\")\n",
        "        else:\n",
        "            print(\"File Contents:\\n\", content)\n",
        "\n",
        "except FileNotFoundError:\n",
        "    print(f\"Error: The file '{file_name}' does not exist.\")\n",
        "\n"
      ],
      "metadata": {
        "id": "UavZ1bCL_cmj"
      },
      "execution_count": null,
      "outputs": []
    },
    {
      "cell_type": "markdown",
      "source": [
        "23.  Write a Python program that writes to a log file when an error occurs during file handling.\n"
      ],
      "metadata": {
        "id": "3QqfgAVZ_096"
      }
    },
    {
      "cell_type": "code",
      "source": [
        "import logging\n",
        "\n",
        "logging.basicConfig(\n",
        "    filename=\"file_errors.log\",\n",
        "    level=logging.ERROR,\n",
        "    format=\"%(asctime)s - %(levelname)s - %(message)s\",\n",
        ")\n",
        "\n",
        "def read_file(file_name):\n",
        "    \"\"\"Attempts to read a file and logs an error if it fails.\"\"\"\n",
        "    try:\n",
        "        with open(file_name, \"r\") as file:\n",
        "            content = file.read()\n",
        "            print(\"File Contents:\\n\", content)\n",
        "    except FileNotFoundError:\n",
        "        logging.error(f\"File '{file_name}' not found.\")\n",
        "        print(f\"Error: The file '{file_name}' does not exist.\")\n",
        "    except PermissionError:\n",
        "        logging.error(f\"Permission denied for file '{file_name}'.\")\n",
        "        print(f\"Error: Permission denied to access '{file_name}'.\")\n",
        "    except Exception as e:\n",
        "        logging.error(f\"An unexpected error occurred: {e}\")\n",
        "        print(\"An unexpected error occurred. Check the log file for details.\")\n",
        "\n"
      ],
      "metadata": {
        "id": "p2Nen4Ev_4kE"
      },
      "execution_count": null,
      "outputs": []
    }
  ]
}